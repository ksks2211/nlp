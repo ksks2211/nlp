{
 "cells": [
  {
   "cell_type": "code",
   "execution_count": 1,
   "metadata": {},
   "outputs": [],
   "source": [
    "import tensorflow as tf\n",
    "from tensorflow.keras.preprocessing.sequence import pad_sequences\n",
    "from tensorflow.keras.callbacks import EarlyStopping, ModelCheckpoint\n",
    "from tensorflow.keras import layers\n",
    "\n",
    "import numpy as np\n",
    "import pandas as pd\n",
    "\n",
    "import matplotlib.pyplot as plt\n",
    "import os\n",
    "import json\n",
    "\n",
    "from tqdm import tqdm"
   ]
  },
  {
   "cell_type": "markdown",
   "metadata": {},
   "source": [
    "## Data Loading"
   ]
  },
  {
   "cell_type": "code",
   "execution_count": 2,
   "metadata": {},
   "outputs": [],
   "source": [
    "DATA_IN_PATH='./data_in/'\n",
    "DATA_OUT_PATH='./data_out/'\n",
    "INPUT_TRAIN_DATA='nsmc_train_input.npy'\n",
    "LABEL_TRAIN_DATA='nsmc_train_label.npy'\n",
    "DATA_CONFIGS='data_configs.json'\n",
    "\n",
    "\n",
    "train_input = np.load(open(DATA_IN_PATH+INPUT_TRAIN_DATA,'rb'))\n",
    "train_input = pad_sequences(train_input, maxlen=train_input.shape[1])\n",
    "train_label = np.load(open(DATA_IN_PATH+LABEL_TRAIN_DATA,'rb'))\n",
    "prepro_configs = json.load(open(DATA_IN_PATH+DATA_CONFIGS,'r'))\n",
    "\n",
    "\n",
    "SEED_NUM = 1234\n",
    "tf.random.set_seed(SEED_NUM)"
   ]
  },
  {
   "cell_type": "code",
   "execution_count": 3,
   "metadata": {},
   "outputs": [
    {
     "data": {
      "text/plain": [
       "array([[   64,   475,    27,   276,   678,     0,     0,     0],\n",
       "       [  617,     2,   230,  1473,    37,   983,   694,    31],\n",
       "       [ 2470, 25042,  2337,  5694,     3,   237,    21,    19],\n",
       "       [  121,  8151,   235,    70,    11,    14,    38,  3635],\n",
       "       [  255,     4, 14273, 19444,     7,  1097,   270,   255]])"
      ]
     },
     "execution_count": 3,
     "metadata": {},
     "output_type": "execute_result"
    }
   ],
   "source": [
    "train_input[:5]"
   ]
  },
  {
   "cell_type": "code",
   "execution_count": 4,
   "metadata": {},
   "outputs": [
    {
     "data": {
      "text/plain": [
       "array([0, 1, 0, 0, 1], dtype=int64)"
      ]
     },
     "execution_count": 4,
     "metadata": {},
     "output_type": "execute_result"
    }
   ],
   "source": [
    "train_label[:5]"
   ]
  },
  {
   "cell_type": "code",
   "execution_count": 5,
   "metadata": {},
   "outputs": [
    {
     "data": {
      "text/plain": [
       "43771"
      ]
     },
     "execution_count": 5,
     "metadata": {},
     "output_type": "execute_result"
    }
   ],
   "source": [
    "prepro_configs['vocab_size']"
   ]
  },
  {
   "cell_type": "markdown",
   "metadata": {},
   "source": [
    "## Define Model"
   ]
  },
  {
   "cell_type": "code",
   "execution_count": 6,
   "metadata": {},
   "outputs": [],
   "source": [
    "model_name = 'cnn_classifier_kr'\n",
    "BATCH_SIZE=256\n",
    "NUM_EPOCHS = 10\n",
    "VALID_SPLIT=0.1\n",
    "MAX_LEN = train_input.shape[1]\n",
    "\n",
    "kargs = {\n",
    "    'model_name':model_name, \n",
    "    'vocab_size':prepro_configs['vocab_size'],\n",
    "    'embedding_size':128,\n",
    "    'num_filters':100,\n",
    "    'dropout_rate':0.5,\n",
    "    'hidden_dimension':100,\n",
    "    'output_dimension':1}"
   ]
  },
  {
   "cell_type": "code",
   "execution_count": 7,
   "metadata": {},
   "outputs": [],
   "source": [
    "class CNNClassifier(tf.keras.Model):\n",
    "    \n",
    "    def __init__(self,**kargs):\n",
    "        super(CNNClassifier,self).__init__(name=kargs['model_name'])\n",
    "        self.embedding = layers.Embedding(input_dim=kargs['vocab_size'], output_dim=kargs['embedding_size'])\n",
    "        self.conv_list = [ \n",
    "            layers.Conv1D(\n",
    "                filters=kargs['num_filters'],\n",
    "                kernel_size=kernel_size,\n",
    "                padding='valid',\n",
    "                activation=tf.keras.activations.relu, \n",
    "                kernel_constraint=tf.keras.constraints.MaxNorm(max_value=3.)\n",
    "            )\n",
    "        for kernel_size in [3,4,5]]\n",
    "        \n",
    "        self.pooling = layers.GlobalMaxPool1D()\n",
    "        self.dropout = layers.Dropout(kargs['dropout_rate'])\n",
    "        self.fc1 = layers.Dense(\n",
    "            units=kargs['hidden_dimension'],\n",
    "            activation=tf.keras.activations.relu, \n",
    "            kernel_constraint=tf.keras.constraints.MaxNorm(max_value=3.))\n",
    "        self.fc2 = layers.Dense(\n",
    "            units=kargs['output_dimension'],\n",
    "            activation=tf.keras.activations.sigmoid, \n",
    "            kernel_constraint=tf.keras.constraints.MaxNorm(max_value=3.))\n",
    "        \n",
    "    def call(self,x):\n",
    "        x = self.embedding(x)\n",
    "        x = self.dropout(x)\n",
    "        x = tf.concat([self.pooling(conv(x)) for conv in self.conv_list],axis=-1)\n",
    "        x = self.fc1(x)\n",
    "        x = self.dropout(x)\n",
    "        x = self.fc2(x)\n",
    "        \n",
    "        return x"
   ]
  },
  {
   "cell_type": "markdown",
   "metadata": {},
   "source": [
    "## Create Model"
   ]
  },
  {
   "cell_type": "code",
   "execution_count": 8,
   "metadata": {},
   "outputs": [],
   "source": [
    "model = CNNClassifier(**kargs)\n",
    "\n",
    "model.compile(optimizer = tf.keras.optimizers.Adam(),\n",
    "             loss=tf.keras.losses.BinaryCrossentropy(),\n",
    "             metrics=[tf.keras.metrics.BinaryAccuracy(name='accuracy')])"
   ]
  },
  {
   "cell_type": "code",
   "execution_count": 9,
   "metadata": {},
   "outputs": [
    {
     "name": "stdout",
     "output_type": "stream",
     "text": [
      "./data_out/cnn_classifier_kr -- Folder already Exists\n",
      "\n"
     ]
    }
   ],
   "source": [
    "earlystop_callback = EarlyStopping(monitor='val_accuracy',min_delta = 0.0001, patience = 2)\n",
    "\n",
    "checkpoint_path = DATA_OUT_PATH + model_name+'/weights.h5'\n",
    "checkpoint_dir = os.path.dirname(checkpoint_path)\n",
    "\n",
    "if os.path.exists(checkpoint_dir):\n",
    "    print(\"{} -- Folder already Exists\\n\".format(checkpoint_dir))\n",
    "else:\n",
    "    os.makedirs(checkpoint_dir,exist_ok=True)\n",
    "    print(\"{} -- Folder create complete\\n\".format(checkpoint_dir))\n",
    "    \n",
    "cp_callback = ModelCheckpoint(\n",
    "    checkpoint_path, monitor=\"val_accuracy\", verbose=1, save_best_only=True,save_weights_only=True)"
   ]
  },
  {
   "cell_type": "code",
   "execution_count": 10,
   "metadata": {},
   "outputs": [
    {
     "name": "stdout",
     "output_type": "stream",
     "text": [
      "Epoch 1/10\n",
      "528/528 [==============================] - 44s 78ms/step - loss: 0.5221 - accuracy: 0.7223 - val_loss: 0.3911 - val_accuracy: 0.8222\n",
      "\n",
      "Epoch 00001: val_accuracy improved from -inf to 0.82220, saving model to ./data_out/cnn_classifier_kr\\weights.h5\n",
      "Epoch 2/10\n",
      "528/528 [==============================] - 40s 75ms/step - loss: 0.3550 - accuracy: 0.8432 - val_loss: 0.3912 - val_accuracy: 0.8249\n",
      "\n",
      "Epoch 00002: val_accuracy improved from 0.82220 to 0.82487, saving model to ./data_out/cnn_classifier_kr\\weights.h5\n",
      "Epoch 3/10\n",
      "528/528 [==============================] - 40s 75ms/step - loss: 0.2975 - accuracy: 0.8750 - val_loss: 0.4053 - val_accuracy: 0.8228\n",
      "\n",
      "Epoch 00003: val_accuracy did not improve from 0.82487\n",
      "Epoch 4/10\n",
      "528/528 [==============================] - 40s 75ms/step - loss: 0.2520 - accuracy: 0.8937 - val_loss: 0.4383 - val_accuracy: 0.8211\n",
      "\n",
      "Epoch 00004: val_accuracy did not improve from 0.82487\n",
      "Epoch 5/10\n",
      "528/528 [==============================] - 40s 76ms/step - loss: 0.2175 - accuracy: 0.9097 - val_loss: 0.4634 - val_accuracy: 0.8187\n",
      "\n",
      "Epoch 00005: val_accuracy did not improve from 0.82487\n",
      "Epoch 6/10\n",
      "528/528 [==============================] - 40s 75ms/step - loss: 0.1955 - accuracy: 0.9195 - val_loss: 0.4956 - val_accuracy: 0.8173\n",
      "\n",
      "Epoch 00006: val_accuracy did not improve from 0.82487\n"
     ]
    }
   ],
   "source": [
    "history = model.fit(\n",
    "    train_input, \n",
    "    train_label,\n",
    "    batch_size=BATCH_SIZE,\n",
    "    epochs = NUM_EPOCHS,\n",
    "    validation_split=VALID_SPLIT,\n",
    "    callbacks=[earlystop_callback, cp_callback])"
   ]
  },
  {
   "cell_type": "code",
   "execution_count": 11,
   "metadata": {},
   "outputs": [],
   "source": [
    "def plot_graphs(history, string):\n",
    "    plt.plot(history.history[string])\n",
    "    plt.plot(history.history['val_'+string], '')\n",
    "    plt.xlabel(\"Epochs\")\n",
    "    plt.ylabel(string)\n",
    "    plt.legend([string, 'val_'+string])\n",
    "    plt.show()"
   ]
  },
  {
   "cell_type": "code",
   "execution_count": 12,
   "metadata": {},
   "outputs": [
    {
     "data": {
      "image/png": "[encoded data removed]",
      "text/plain": [
       "<Figure size 432x288 with 1 Axes>"
      ]
     },
     "metadata": {
      "needs_background": "light"
     },
     "output_type": "display_data"
    }
   ],
   "source": [
    "plot_graphs(history,'loss')"
   ]
  },
  {
   "cell_type": "code",
   "execution_count": 13,
   "metadata": {},
   "outputs": [
    {
     "data": {
      "image/png": "[encoded data removed]",
      "text/plain": [
       "<Figure size 432x288 with 1 Axes>"
      ]
     },
     "metadata": {
      "needs_background": "light"
     },
     "output_type": "display_data"
    }
   ],
   "source": [
    "plot_graphs(history,'accuracy')"
   ]
  },
  {
   "cell_type": "code",
   "execution_count": 15,
   "metadata": {},
   "outputs": [
    {
     "name": "stdout",
     "output_type": "stream",
     "text": [
      "1563/1563 [==============================] - 6s 4ms/step - loss: 0.3920 - accuracy: 0.8247\n"
     ]
    },
    {
     "data": {
      "text/plain": [
       "[0.39200249314308167, 0.824679970741272]"
      ]
     },
     "execution_count": 15,
     "metadata": {},
     "output_type": "execute_result"
    }
   ],
   "source": [
    "DATA_OUT_PATH  ='./data_out/'\n",
    "INPUT_TEST_DATA = 'nsmc_test_input.npy'\n",
    "LABEL_TEST_DATA = 'nsmc_test_label.npy'\n",
    "SAVE_FILE_NM='weights.h5'\n",
    "\n",
    "test_input = np.load(open(DATA_IN_PATH+INPUT_TEST_DATA,'rb'))\n",
    "test_input = pad_sequences(test_input, maxlen = test_input.shape[1])\n",
    "test_label_data = np.load(open(DATA_IN_PATH+LABEL_TEST_DATA,'rb'))\n",
    "model.load_weights(os.path.join(DATA_OUT_PATH,model_name,SAVE_FILE_NM))\n",
    "model.evaluate(test_input,test_label_data)"
   ]
  },
  {
   "cell_type": "code",
   "execution_count": null,
   "metadata": {},
   "outputs": [],
   "source": []
  }
 ],
 "metadata": {
  "kernelspec": {
   "display_name": "Python 3",
   "language": "python",
   "name": "python3"
  },
  "language_info": {
   "codemirror_mode": {
    "name": "ipython",
    "version": 3
   },
   "file_extension": ".py",
   "mimetype": "text/x-python",
   "name": "python",
   "nbconvert_exporter": "python",
   "pygments_lexer": "ipython3",
   "version": "3.8.5"
  }
 },
 "nbformat": 4,
 "nbformat_minor": 4
}
