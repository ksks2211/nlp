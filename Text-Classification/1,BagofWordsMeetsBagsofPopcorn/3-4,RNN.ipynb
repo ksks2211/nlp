{
 "cells": [
  {
   "cell_type": "code",
   "execution_count": 1,
   "metadata": {},
   "outputs": [],
   "source": [
    "import tensorflow as tf\n",
    "from tensorflow import keras\n"
   ]
  },
  {
   "cell_type": "code",
   "execution_count": 2,
   "metadata": {},
   "outputs": [],
   "source": [
    "SEED_NUM=1234\n",
    "tf.random.set_seed(SEED_NUM)"
   ]
  },
  {
   "cell_type": "markdown",
   "metadata": {},
   "source": [
    "# Load Data"
   ]
  },
  {
   "cell_type": "code",
   "execution_count": 3,
   "metadata": {},
   "outputs": [],
   "source": [
    "import json\n",
    "import numpy as np\n",
    "from tensorflow.keras.preprocessing.sequence import pad_sequences\n",
    "\n",
    "\n",
    "DATA_IN_PATH = './data_in/'\n",
    "DATA_OUT_PATH='./data_out/'\n",
    "TRAIN_INPUT_DATA='train_input.npy'\n",
    "TRAIN_LABEL_DATA='train_label.npy'\n",
    "DATA_CONFIGS = 'data_config.json'\n",
    "\n",
    "train_input = np.load(open(DATA_IN_PATH+TRAIN_INPUT_DATA,'rb'))\n",
    "train_label = np.load(open(DATA_IN_PATH+TRAIN_LABEL_DATA,'rb'))\n",
    "prepro_configs = json.load(open(DATA_IN_PATH+DATA_CONFIGS,'r'))"
   ]
  },
  {
   "cell_type": "code",
   "execution_count": 4,
   "metadata": {},
   "outputs": [],
   "source": [
    "model_name = 'rnn_classifier_en'\n",
    "BATCH_SIZE =  128\n",
    "NUM_EPOCHS = 5\n",
    "VALID_SPLIT = 0.1\n",
    "MAX_LEN = train_input.shape[1]\n",
    "\n",
    "kargs = {\n",
    "    'model_name' : model_name,\n",
    "    'vocab_size' : prepro_configs['vocab_size'],\n",
    "    'embedding_dimension':100,\n",
    "    'dropout_rate':0.2,\n",
    "    'lstm_dimension':150,\n",
    "    'dense_dimension':150,\n",
    "    'output_dimension':1\n",
    "}"
   ]
  },
  {
   "cell_type": "code",
   "execution_count": 5,
   "metadata": {},
   "outputs": [],
   "source": [
    "class RNNClassifier(tf.keras.Model):\n",
    "    def __init__(self,**kargs):\n",
    "        super(RNNClassifier,self).__init__(name=kargs['model_name'])\n",
    "        self.embedding = tf.keras.layers.Embedding(input_dim=kargs['vocab_size'],output_dim=kargs['embedding_dimension'])\n",
    "        \n",
    "        self.lstm_1_layer = tf.keras.layers.LSTM(kargs['lstm_dimension'],return_sequences=True)\n",
    "        \n",
    "        self.lstm_2_layer = tf.keras.layers.LSTM(kargs['lstm_dimension'])\n",
    "        \n",
    "        self.dropout = tf.keras.layers.Dropout(kargs['dropout_rate'])\n",
    "        \n",
    "        self.fc1 = tf.keras.layers.Dense(units=kargs['dense_dimension'],activation=tf.keras.activations.tanh)\n",
    "        \n",
    "        self.fc2 =tf.keras.layers.Dense(units=kargs['output_dimension'],activation=tf.keras.activations.sigmoid)\n",
    "        \n",
    "    def call(self,x):\n",
    "        x = self.embedding(x)\n",
    "        x = self.dropout(x)\n",
    "        x = self.lstm_1_layer(x)\n",
    "        x = self.lstm_2_layer(x)\n",
    "        x = self.dropout(x)\n",
    "        x = self.fc1(x)\n",
    "        x = self.dropout(x)\n",
    "        x = self.fc2(x)\n",
    "        \n",
    "        return x\n",
    "    \n",
    "    "
   ]
  },
  {
   "cell_type": "code",
   "execution_count": 6,
   "metadata": {},
   "outputs": [],
   "source": [
    "model = RNNClassifier(**kargs)\n",
    "model.compile(optimizer=tf.keras.optimizers.Adam(1e-4),\n",
    "             loss=tf.keras.losses.BinaryCrossentropy(),\n",
    "             metrics=[tf.keras.metrics.BinaryAccuracy(name='accuracy')]\n",
    "             )"
   ]
  },
  {
   "cell_type": "code",
   "execution_count": 7,
   "metadata": {},
   "outputs": [
    {
     "name": "stdout",
     "output_type": "stream",
     "text": [
      "./data_out/rnn_classifier_en -- Folder already exists \n",
      "\n"
     ]
    }
   ],
   "source": [
    "from tensorflow.keras.callbacks import EarlyStopping, ModelCheckpoint\n",
    "import os\n",
    "\n",
    "earlystop_callback = EarlyStopping(monitor='val_accuracy',min_delta=0.001,patience=1)\n",
    "checkpoint_path = DATA_OUT_PATH + model_name+'/weights.h5'\n",
    "checkpoint_dir = os.path.dirname(checkpoint_path)\n",
    "\n",
    "if os.path.exists(checkpoint_dir):\n",
    "    print(\"{} -- Folder already exists \\n\".format(checkpoint_dir))\n",
    "else:\n",
    "    os.makedirs(checkpoint_dir,exist_ok=True)\n",
    "    print(\"{} -- Folder create complete \\n\".format(checkpoint_dir))\n",
    "\n",
    "\n",
    "cp_callback = ModelCheckpoint(\n",
    "    checkpoint_path,monitor='val_accuracy',verbose=1,save_best_only=True,save_weights_only=True\n",
    ")\n",
    "\n"
   ]
  },
  {
   "cell_type": "code",
   "execution_count": 8,
   "metadata": {},
   "outputs": [
    {
     "name": "stdout",
     "output_type": "stream",
     "text": [
      "Epoch 1/5\n",
      "176/176 [==============================] - 51s 262ms/step - loss: 0.6932 - accuracy: 0.5033 - val_loss: 0.6929 - val_accuracy: 0.5096\n",
      "\n",
      "Epoch 00001: val_accuracy improved from -inf to 0.50960, saving model to ./data_out/rnn_classifier_en\\weights.h5\n",
      "Epoch 2/5\n",
      "176/176 [==============================] - 44s 250ms/step - loss: 0.6915 - accuracy: 0.5177 - val_loss: 0.4860 - val_accuracy: 0.7576\n",
      "\n",
      "Epoch 00002: val_accuracy improved from 0.50960 to 0.75760, saving model to ./data_out/rnn_classifier_en\\weights.h5\n",
      "Epoch 3/5\n",
      "176/176 [==============================] - 46s 263ms/step - loss: 0.3949 - accuracy: 0.8297 - val_loss: 0.2773 - val_accuracy: 0.8844\n",
      "\n",
      "Epoch 00003: val_accuracy improved from 0.75760 to 0.88440, saving model to ./data_out/rnn_classifier_en\\weights.h5\n",
      "Epoch 4/5\n",
      "176/176 [==============================] - 45s 256ms/step - loss: 0.1899 - accuracy: 0.9298 - val_loss: 0.2784 - val_accuracy: 0.8888\n",
      "\n",
      "Epoch 00004: val_accuracy improved from 0.88440 to 0.88880, saving model to ./data_out/rnn_classifier_en\\weights.h5\n",
      "Epoch 5/5\n",
      "176/176 [==============================] - 45s 256ms/step - loss: 0.1234 - accuracy: 0.9584 - val_loss: 0.2998 - val_accuracy: 0.8872\n",
      "\n",
      "Epoch 00005: val_accuracy did not improve from 0.88880\n"
     ]
    }
   ],
   "source": [
    "history = model.fit(\n",
    "    train_input,\n",
    "    train_label, \n",
    "    batch_size=BATCH_SIZE,\n",
    "    epochs=NUM_EPOCHS,\n",
    "    validation_split=VALID_SPLIT,\n",
    "    callbacks=[earlystop_callback,cp_callback]\n",
    ")"
   ]
  },
  {
   "cell_type": "code",
   "execution_count": 9,
   "metadata": {},
   "outputs": [],
   "source": [
    "import matplotlib.pyplot as plt\n",
    "\n",
    "import os\n",
    "import json\n",
    "\n",
    "from tqdm import tqdm\n",
    "def plot_graphs(history, string):\n",
    "    plt.plot(history.history[string])\n",
    "    plt.plot(history.history['val_'+string], '')\n",
    "    plt.xlabel(\"Epochs\")\n",
    "    plt.ylabel(string)\n",
    "    plt.legend([string, 'val_'+string])\n",
    "    plt.show()"
   ]
  },
  {
   "cell_type": "code",
   "execution_count": 10,
   "metadata": {},
   "outputs": [
    {
     "data": {
      "image/png": "[encoded data removed]",
      "text/plain": [
       "<Figure size 432x288 with 1 Axes>"
      ]
     },
     "metadata": {
      "needs_background": "light"
     },
     "output_type": "display_data"
    }
   ],
   "source": [
    "plot_graphs(history,'loss')"
   ]
  },
  {
   "cell_type": "code",
   "execution_count": 11,
   "metadata": {},
   "outputs": [
    {
     "data": {
      "image/png": "[encoded data removed]",
      "text/plain": [
       "<Figure size 432x288 with 1 Axes>"
      ]
     },
     "metadata": {
      "needs_background": "light"
     },
     "output_type": "display_data"
    }
   ],
   "source": [
    "plot_graphs(history,'accuracy')"
   ]
  },
  {
   "cell_type": "markdown",
   "metadata": {},
   "source": [
    "# Prediction"
   ]
  },
  {
   "cell_type": "code",
   "execution_count": 12,
   "metadata": {},
   "outputs": [],
   "source": [
    "DATA_OUT_PATH = './data_out/'\n",
    "TEST_INPUT_DATA = 'test_input.npy'\n",
    "TEST_ID_DATA = 'test_id.npy'\n",
    "SAVE_FILE_NM = 'weights.h5'\n",
    "\n",
    "test_input = np.load(open(DATA_IN_PATH+TEST_INPUT_DATA,'rb'))\n",
    "test_input = pad_sequences(test_input,maxlen=test_input.shape[1])\n",
    "\n",
    "# 가장 val_accuracy 가 놓은 weight 로드하기\n",
    "model.load_weights(os.path.join(DATA_OUT_PATH,model_name,SAVE_FILE_NM))"
   ]
  },
  {
   "cell_type": "code",
   "execution_count": 13,
   "metadata": {},
   "outputs": [
    {
     "data": {
      "text/plain": [
       "array([    1,     6,  2862,   292,    61,  7851,   199,   516,   345,\n",
       "        2379,    20,     7,  1289,  7851,   104,   475,   217,   120,\n",
       "        3217,  1236,  3323,  1512,     7,  3149,   231,    22,     1,\n",
       "           4,  7125,  1941,  7373,   307, 29833,  9301,   118,    92,\n",
       "           8,    41,     8,    85,  1496, 10719,    92,     8,    41,\n",
       "          85, 11527, 22041,  9476,     4, 10719,    41,    70,    85,\n",
       "         835,   179,   302,  1139,  3381,  1671,   278,  4900,  3947,\n",
       "           9,     4,  7125,  1423,  2592,  7597,  6835,   756, 60061,\n",
       "         643,     4,    24,    13,   441,     1,  6664,   541,   203,\n",
       "           1,    10,   810,  1914,    43,    39, 11299,  2387,  9070,\n",
       "         510,   369,  2791,  8969,  2387,   203,    50,    18,  2592,\n",
       "        7851, 13944,    88, 13243,   203,  5395,    77,  2463,  2009,\n",
       "        7998,  5563,  3070,  5564,  1598, 24471,   589,  1941, 15723,\n",
       "          67,  3063,    27,  3184,  1109,   102,   217,   232,   110,\n",
       "        7216,  3316,  2238,   162,    67,     1,  6091,   180,  4588,\n",
       "          28,  6361,    12,    23,  1307,  8610,    48,     8,   354,\n",
       "         993,     1,  1282,  2784, 18856,  3482,  4916, 15658,    38,\n",
       "       19144,   282,    18,     6,   369,  7125,    28,    96,   194,\n",
       "          18, 32219,   194,    25,  1282,  4047,   214,  3435,    63,\n",
       "        3650,   194,     1])"
      ]
     },
     "execution_count": 13,
     "metadata": {},
     "output_type": "execute_result"
    }
   ],
   "source": [
    "test_input[93]"
   ]
  },
  {
   "cell_type": "code",
   "execution_count": 14,
   "metadata": {},
   "outputs": [],
   "source": [
    "#예측하기\n",
    "predictions = model.predict(test_input, batch_size=BATCH_SIZE)\n",
    "\n",
    "#차원 조절\n",
    "predictions = predictions.squeeze(-1)\n",
    "\n"
   ]
  },
  {
   "cell_type": "code",
   "execution_count": 16,
   "metadata": {},
   "outputs": [],
   "source": [
    "import pandas as pd\n",
    "test_id = np.load(open(DATA_IN_PATH+TEST_ID_DATA,'rb'),allow_pickle=True)\n",
    "\n",
    "output = pd.DataFrame(data={\"id\":list(test_id),\"sentiment\":list(predictions)})\n",
    "output.to_csv(DATA_OUT_PATH+'movie_review_result_rnn.csv',index=False,quoting=3)"
   ]
  }
 ],
 "metadata": {
  "kernelspec": {
   "display_name": "Python 3",
   "language": "python",
   "name": "python3"
  },
  "language_info": {
   "codemirror_mode": {
    "name": "ipython",
    "version": 3
   },
   "file_extension": ".py",
   "mimetype": "text/x-python",
   "name": "python",
   "nbconvert_exporter": "python",
   "pygments_lexer": "ipython3",
   "version": "3.8.5"
  }
 },
 "nbformat": 4,
 "nbformat_minor": 4
}
