{
 "cells": [
  {
   "cell_type": "code",
   "execution_count": 1,
   "metadata": {},
   "outputs": [],
   "source": [
    "import numpy as np\n",
    "import pandas as pd\n",
    "import os\n",
    "import json"
   ]
  },
  {
   "cell_type": "code",
   "execution_count": 2,
   "metadata": {},
   "outputs": [],
   "source": [
    "DATA_IN_PATH = './data_in/'\n",
    "DATA_OUT_PATH = './data_out/'\n",
    "\n",
    "Tokenized = 'Tokenized.npy'\n",
    "\n",
    "\n",
    "\n",
    "# 훈련 데이터 가져오는 부분이다.\n",
    "sentences = np.load(open(DATA_IN_PATH + Tokenized, 'rb'),allow_pickle=True)\n"
   ]
  },
  {
   "cell_type": "code",
   "execution_count": 3,
   "metadata": {},
   "outputs": [
    {
     "data": {
      "text/plain": [
       "(597052,)"
      ]
     },
     "execution_count": 3,
     "metadata": {},
     "output_type": "execute_result"
    }
   ],
   "source": [
    "sentences.shape"
   ]
  },
  {
   "cell_type": "code",
   "execution_count": 4,
   "metadata": {},
   "outputs": [],
   "source": [
    "from gensim.models import word2vec"
   ]
  },
  {
   "cell_type": "code",
   "execution_count": 11,
   "metadata": {},
   "outputs": [],
   "source": [
    "\n",
    "num_features=40 # word vector 특징값의 수, 각 단어에 대해 임베딩된 벡터 차원을 설정\n",
    "min_word_count=35 # 단어의 최소빈도, 빈도가 적은 단어는 skip하기 위해서 설정\n",
    "num_workers=4 # 프로세스 개수\n",
    "context=10 # 컨텍스트 윈도 크기 지정\n",
    "downsampling=1e-3 # 빠른학습을 위해서 정답 단어 라벨에 대한 다운샘플링 비율을 지정\n",
    "\n",
    "\n",
    "model = word2vec.Word2Vec(sentences,workers=num_workers,size=num_features,min_count=min_word_count,window=context,sample=downsampling)"
   ]
  },
  {
   "cell_type": "code",
   "execution_count": 6,
   "metadata": {},
   "outputs": [],
   "source": [
    "model.wv.save_word2vec_format('movie')\n",
    "model.save(\"movie.model\")"
   ]
  },
  {
   "cell_type": "code",
   "execution_count": 7,
   "metadata": {},
   "outputs": [
    {
     "data": {
      "text/plain": [
       "[('sexiest', 0.686002790927887),\n",
       " ('cute', 0.6627909541130066),\n",
       " ('underrated', 0.6593136787414551),\n",
       " ('sexy', 0.6523654460906982),\n",
       " ('attractive', 0.6471374034881592),\n",
       " ('handsome', 0.6447017192840576),\n",
       " ('haunted', 0.6043119430541992),\n",
       " ('awkward', 0.5992336869239807),\n",
       " ('erotic', 0.5982903242111206),\n",
       " ('disgusting', 0.5946621894836426)]"
      ]
     },
     "execution_count": 7,
     "metadata": {},
     "output_type": "execute_result"
    }
   ],
   "source": [
    "model.wv.most_similar(\"beautiful\")"
   ]
  },
  {
   "cell_type": "code",
   "execution_count": 8,
   "metadata": {},
   "outputs": [],
   "source": [
    "a=model.wv['movie'].tolist()"
   ]
  }
 ],
 "metadata": {
  "kernelspec": {
   "display_name": "Python 3",
   "language": "python",
   "name": "python3"
  },
  "language_info": {
   "codemirror_mode": {
    "name": "ipython",
    "version": 3
   },
   "file_extension": ".py",
   "mimetype": "text/x-python",
   "name": "python",
   "nbconvert_exporter": "python",
   "pygments_lexer": "ipython3",
   "version": "3.8.5"
  }
 },
 "nbformat": 4,
 "nbformat_minor": 4
}
